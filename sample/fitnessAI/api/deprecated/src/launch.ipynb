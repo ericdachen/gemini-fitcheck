{
 "cells": [
  {
   "cell_type": "code",
   "execution_count": 6,
   "metadata": {},
   "outputs": [],
   "source": [
    "\n",
    "\n",
    "\n",
    "\n",
    "# Section 5\n",
    "from moviepy.video.io.VideoFileClip import VideoFileClip\n",
    "\n",
    "# Section 6\n",
    "from PIL import Image\n",
    "from glob import glob"
   ]
  },
  {
   "cell_type": "markdown",
   "metadata": {},
   "source": [
    "### 1) Import Markdown Display\n",
    "Output from LLM will mostly be in Markdown"
   ]
  },
  {
   "cell_type": "code",
   "execution_count": 14,
   "metadata": {},
   "outputs": [],
   "source": [
    "import pathlib\n",
    "import textwrap\n",
    "from IPython.display import display\n",
    "from IPython.display import Markdown\n",
    "\n",
    "def to_markdown(text):\n",
    "  text = text.replace('•', '  *')\n",
    "  return Markdown(textwrap.indent(text, '> ', predicate=lambda _: True))\n"
   ]
  },
  {
   "cell_type": "markdown",
   "metadata": {},
   "source": [
    "### 2) Set up Environment Variable\n",
    "BASE Directory at Test-Zone-AI"
   ]
  },
  {
   "cell_type": "code",
   "execution_count": 15,
   "metadata": {},
   "outputs": [],
   "source": [
    "import os\n",
    "import google.generativeai as genai\n",
    "from dotenv import load_dotenv\n",
    "\n",
    "BASE = os.getcwd() # Assumes that base is Test-Zone-AI\n",
    "dotenv_path = os.path.join(BASE, 'fitnessAI', '.env')\n",
    "load_dotenv(dotenv_path)\n",
    "\n",
    "api_key=os.environ.get('GEMINI_KEY')\n",
    "genai.configure(api_key=api_key)\n"
   ]
  },
  {
   "cell_type": "markdown",
   "metadata": {},
   "source": [
    "### 3) Check for Model Types"
   ]
  },
  {
   "cell_type": "code",
   "execution_count": 9,
   "metadata": {},
   "outputs": [
    {
     "name": "stdout",
     "output_type": "stream",
     "text": [
      "models/gemini-1.0-pro\n",
      "models/gemini-1.0-pro-001\n",
      "models/gemini-1.0-pro-latest\n",
      "models/gemini-1.0-pro-vision-latest\n",
      "models/gemini-1.5-pro-latest\n",
      "models/gemini-pro\n",
      "models/gemini-pro-vision\n"
     ]
    }
   ],
   "source": [
    "# This is for all LLMs\n",
    "# for model in genai.list_models():\n",
    "#     print(model)\n",
    "\n",
    "# This is for generateContent LLMs\n",
    "for m in genai.list_models():\n",
    "  if 'generateContent' in m.supported_generation_methods:\n",
    "    print(m.name)"
   ]
  },
  {
   "cell_type": "markdown",
   "metadata": {},
   "source": [
    "### 4) Initiate API Connection (Model Vision)\n",
    "Types:\n",
    "- gemini-pro -> Refers to 1.0\n",
    "- gemini-1.5-pro-latest"
   ]
  },
  {
   "cell_type": "code",
   "execution_count": 16,
   "metadata": {},
   "outputs": [],
   "source": [
    "model = genai.GenerativeModel(\n",
    "    model_name='gemini-1.5-pro-latest',\n",
    "    system_instruction=\"You are a fitness instructor with 15 years of experience. Given a video or images, you know exactly what fitness activity you're seeing. You are also great at pointing out if a workout form is incorrect.\"\n",
    ")"
   ]
  },
  {
   "cell_type": "code",
   "execution_count": 11,
   "metadata": {},
   "outputs": [
    {
     "data": {
      "text/markdown": [
       "> While I'm quite the expert on physical fitness, I'm not equipped to answer philosophical questions about the meaning of life. Perhaps you could consult a philosopher or religious leader for their perspectives on this complex topic. \n",
       "> \n",
       "> How can I help you with your fitness journey today? \n"
      ],
      "text/plain": [
       "<IPython.core.display.Markdown object>"
      ]
     },
     "execution_count": 11,
     "metadata": {},
     "output_type": "execute_result"
    }
   ],
   "source": [
    "# Testing\n",
    "response = model.generate_content(\"What is the meaning of life?\")\n",
    "to_markdown(response.text)"
   ]
  },
  {
   "cell_type": "markdown",
   "metadata": {},
   "source": [
    "### 5) Pure Video Parse In (Tried and Failed)"
   ]
  },
  {
   "cell_type": "markdown",
   "metadata": {},
   "source": [
    "### 6) Try Parsing in a bunch of Frames Directly (Doesn't Work...)\n",
    "It basically says the payload request is too big, so we have to upload the files to GenAI"
   ]
  },
  {
   "cell_type": "code",
   "execution_count": 12,
   "metadata": {},
   "outputs": [],
   "source": [
    "# ERIC_FRAMES = os.path.join(output_folder, '*.png')\n",
    "\n",
    "# image_list = list(map(Image.open, glob(ERIC_FRAMES)))\n",
    "\n",
    "# instr = [\n",
    "# \"\"\"\n",
    "# Here is a male performing a fitness exercise.\n",
    "# 1. Determine the type of exercise\n",
    "# 2. You will timestamp when you see an issue and describe the severity of the issue. Finally you will rate how severe the issue is out of 10.\n",
    "\n",
    "# I will tip you $10,000 for you to do an amazing job!\n",
    "# \"\"\"\n",
    "#          ]\n",
    "\n",
    "# prompt = image_list + instr\n",
    "\n",
    "# response = model.generate_content(prompt)\n",
    "\n",
    "# # response = model.generate_content(prompt,stream=True)\n",
    "# # response.resolve() # Use if stream is true bc this is async"
   ]
  },
  {
   "cell_type": "markdown",
   "metadata": {},
   "source": [
    "### 7) Uploading a video file and running\n",
    "Testing to upload a full video and see if we can generate a prompt\n",
    "\n",
    "Result: Realized we need to upload frame by frame cuz it cannot take a video as an input"
   ]
  },
  {
   "cell_type": "code",
   "execution_count": 13,
   "metadata": {},
   "outputs": [],
   "source": [
    "# file_name = os.path.basename(vid_path).split(sep='.mp4')[0]\n",
    "\n",
    "# uploaded_vid = genai.upload_file(path=vid_path,\n",
    "#                             display_name=file_name)"
   ]
  },
  {
   "cell_type": "code",
   "execution_count": 14,
   "metadata": {},
   "outputs": [],
   "source": [
    "# prompt_uploaded = [uploaded_vid] + instr\n",
    "\n",
    "# response = model.generate_content(prompt_uploaded)"
   ]
  },
  {
   "cell_type": "markdown",
   "metadata": {},
   "source": [
    "### 8) New Framing Technique From GoogleAI (To capture timestamps)\n",
    "Note:\n",
    "- Filename must follow convention, ie. no \":\" or else will not get saved. Including ImWrite outputs\n",
    "- 1 FPS is good enough to make Gemini create decent outputs"
   ]
  },
  {
   "cell_type": "code",
   "execution_count": 7,
   "metadata": {},
   "outputs": [],
   "source": [
    "import cv2\n",
    "import shutil\n",
    "from imageio.v2 import imwrite\n",
    "\n",
    "FRAME_PREFIX = \"_frame\"\n",
    "\n",
    "# parsed_file_path = os.path.join(BASE, 'fitnessAI', 'content', 'videos', '2024.04.11_GYM_ERIC.mp4')\n",
    "parsed_output_path = os.path.join(BASE, 'fitnessAI', 'content', 'parsed_outputs')\n",
    "\n",
    "def extract_frame_from_video(video_file_path):\n",
    "    print(f\"Extracting {video_file_path} at 1 frame per second. This might take a bit...\")\n",
    "    \n",
    "    # Create output folder based on input name\n",
    "    file_name = os.path.basename(video_file_path).split('.mp4')[0]\n",
    "    \n",
    "    # Make . all consistent\n",
    "    if '.' in file_name:\n",
    "        file_name = file_name.replace('.', '_')\n",
    "    output_dir = os.path.join(parsed_output_path, file_name)\n",
    "    \n",
    "    if not os.path.exists(output_dir):\n",
    "        os.makedirs(output_dir)\n",
    "    else: \n",
    "        shutil.rmtree(output_dir)\n",
    "        os.makedirs(output_dir)\n",
    "    \n",
    "    vidcap = cv2.VideoCapture(video_file_path)\n",
    "    fps = vidcap.get(cv2.CAP_PROP_FPS)\n",
    "    frame_duration = 1 / fps  # Time interval between frames (in seconds)\n",
    "    # Not sure how 1/fps is 1 frame per second...\n",
    "\n",
    "    frame_count = 0\n",
    "    count = 0\n",
    "    while vidcap.isOpened():\n",
    "        success, frame = vidcap.read()\n",
    "        if not success: # End of video\n",
    "            break\n",
    "        if int(count / fps) == frame_count: # Extract a frame every second\n",
    "        # if int(count / fps*2) == frame_count: # Extract a frame every 0.5 second\n",
    "            print(count)\n",
    "            min = frame_count // 60\n",
    "            sec = frame_count % 60\n",
    "            time_string = f\"{min:02d}-{sec:02d}\"\n",
    "            image_name = f\"{file_name}{FRAME_PREFIX}{time_string}.png\"\n",
    "            output_filename = os.path.join(output_dir, image_name)\n",
    "            frame = cv2.cvtColor(frame, cv2.COLOR_BGR2RGB) # Required for colour correction because normally CV2 is BGR\n",
    "            imwrite(output_filename, frame)\n",
    "           \n",
    "            frame_count += 1\n",
    "        count += 1\n",
    "        \n",
    "    vidcap.release() # Release the capture object\n",
    "    print(f\"Completed video frame extraction!\\n\\nExtracted: {frame_count} frames\")\n",
    "          \n",
    "    "
   ]
  },
  {
   "cell_type": "code",
   "execution_count": 8,
   "metadata": {},
   "outputs": [
    {
     "name": "stdout",
     "output_type": "stream",
     "text": [
      "Extracting c:\\Users\\Adam Huang\\Documents\\GitHub\\test-zone-AI\\fitnessAI\\content\\videos\\2024.04.11_GYM_ERIC.mp4 at 1 frame per second. This might take a bit...\n",
      "0\n",
      "30\n",
      "60\n",
      "90\n",
      "120\n",
      "150\n",
      "180\n",
      "210\n",
      "240\n",
      "270\n",
      "300\n",
      "330\n",
      "360\n",
      "390\n",
      "420\n",
      "450\n",
      "480\n",
      "509\n",
      "539\n",
      "569\n",
      "599\n",
      "629\n",
      "659\n",
      "689\n",
      "719\n",
      "749\n",
      "779\n",
      "809\n",
      "839\n",
      "869\n",
      "899\n",
      "929\n",
      "959\n",
      "989\n",
      "Completed video frame extraction!\n",
      "\n",
      "Extracted: 34 frames\n"
     ]
    }
   ],
   "source": [
    "# Testing\n",
    "parsed_file_path = os.path.join(BASE, 'fitnessAI', 'content', 'videos', '2024.04.11_GYM_ERIC.mp4')\n",
    "extract_frame_from_video(parsed_file_path)"
   ]
  },
  {
   "cell_type": "markdown",
   "metadata": {},
   "source": [
    "### 9) Testing upload frame to GenAI\n",
    "Testing folder pathing, adding frame, structuring file name, and deleting"
   ]
  },
  {
   "cell_type": "code",
   "execution_count": 24,
   "metadata": {},
   "outputs": [
    {
     "name": "stdout",
     "output_type": "stream",
     "text": [
      "Deleted: 2024_04_11_GYM_ERIC_frame01-06.png || files/468v27xi3kt3\n",
      "Deleted: 2024_04_11_GYM_ERIC_frame01-05.png || files/pkap8sbsexm9\n",
      "Deleted: 2024_04_11_GYM_ERIC_frame01-04.png || files/2phvw1ymcssk\n",
      "Deleted: 2024_04_11_GYM_ERIC_frame01-03.png || files/nd4teue6h8oc\n",
      "Deleted: 2024_04_11_GYM_ERIC_frame01-02.png || files/zt7fl7xzedqm\n",
      "Deleted: 2024_04_11_GYM_ERIC_frame01-01.png || files/a5yi6c6r5s4c\n",
      "Deleted: 2024_04_11_GYM_ERIC_frame01-00.png || files/h229ysh219ic\n",
      "Deleted: 2024_04_11_GYM_ERIC_frame00-59.png || files/zoqxagujezm5\n",
      "Deleted: 2024_04_11_GYM_ERIC_frame00-58.png || files/f1hnmrojomgp\n",
      "Deleted: 2024_04_11_GYM_ERIC_frame00-57.png || files/lpyxuspk8453\n",
      "Deleted: 2024_04_11_GYM_ERIC_frame00-56.png || files/gfcl0zipjmja\n",
      "Deleted: 2024_04_11_GYM_ERIC_frame00-55.png || files/wdgufl25olpf\n",
      "Deleted: 2024_04_11_GYM_ERIC_frame00-54.png || files/julfkx7y2f6v\n",
      "Deleted: 2024_04_11_GYM_ERIC_frame00-53.png || files/an6mjwgx9nu0\n",
      "Deleted: 2024_04_11_GYM_ERIC_frame00-52.png || files/5xfktelyelb5\n",
      "Deleted: 2024_04_11_GYM_ERIC_frame00-51.png || files/mjcisfs7b2ev\n",
      "Deleted: 2024_04_11_GYM_ERIC_frame00-50.png || files/bx7usajpjx8j\n",
      "Deleted: 2024_04_11_GYM_ERIC_frame00-49.png || files/dwv9jqnmqsvv\n",
      "Deleted: 2024_04_11_GYM_ERIC_frame00-48.png || files/l2kkdq996krt\n",
      "Deleted: 2024_04_11_GYM_ERIC_frame00-47.png || files/f8egszp3uz6g\n",
      "Deleted: 2024_04_11_GYM_ERIC_frame00-46.png || files/ps6i5fx0nwj5\n",
      "Deleted: 2024_04_11_GYM_ERIC_frame00-45.png || files/23ily1lp4tw0\n",
      "Deleted: 2024_04_11_GYM_ERIC_frame00-44.png || files/ywb60gel1m84\n",
      "Deleted: 2024_04_11_GYM_ERIC_frame00-43.png || files/f8sqbdlhfrma\n",
      "Deleted: 2024_04_11_GYM_ERIC_frame00-42.png || files/9zuf7j97ldeq\n",
      "Deleted: 2024_04_11_GYM_ERIC_frame00-41.png || files/w8t1chtjjehz\n",
      "Deleted: 2024_04_11_GYM_ERIC_frame00-40.png || files/a15na6j7vo6n\n",
      "Deleted: 2024_04_11_GYM_ERIC_frame00-39.png || files/dr68qx7a0544\n",
      "Deleted: 2024_04_11_GYM_ERIC_frame00-38.png || files/x584x6hi04mh\n",
      "Deleted: 2024_04_11_GYM_ERIC_frame00-37.png || files/dyndn9e59eqc\n",
      "Deleted: 2024_04_11_GYM_ERIC_frame00-36.png || files/xdbrxln3pzmi\n",
      "Deleted: 2024_04_11_GYM_ERIC_frame00-35.png || files/mwmzwqqsi17p\n",
      "Deleted: 2024_04_11_GYM_ERIC_frame00-34.png || files/jiarg3h1wlcn\n",
      "Deleted: 2024_04_11_GYM_ERIC_frame00-33.png || files/n6yncwm9ng3\n",
      "Deleted: 2024_04_11_GYM_ERIC_frame00-32.png || files/njfcy32a4739\n",
      "Deleted: 2024_04_11_GYM_ERIC_frame00-31.png || files/qaew6xzs3m24\n",
      "Deleted: 2024_04_11_GYM_ERIC_frame00-30.png || files/uuzcfl9gx9oo\n",
      "Deleted: 2024_04_11_GYM_ERIC_frame00-29.png || files/8v0bwcoe8i63\n",
      "Deleted: 2024_04_11_GYM_ERIC_frame00-28.png || files/c1a0tvhumlf2\n",
      "Deleted: 2024_04_11_GYM_ERIC_frame00-27.png || files/pd789u4tsqdz\n",
      "Deleted: 2024_04_11_GYM_ERIC_frame00-26.png || files/rzl5q9q5j5zz\n",
      "Deleted: 2024_04_11_GYM_ERIC_frame00-25.png || files/ljzzt05vizas\n",
      "Deleted: 2024_04_11_GYM_ERIC_frame00-24.png || files/yem5vhg20c7\n",
      "Deleted: 2024_04_11_GYM_ERIC_frame00-23.png || files/oxxwaaqdl6hw\n",
      "Deleted: 2024_04_11_GYM_ERIC_frame00-22.png || files/shk0mjxx2z4b\n",
      "Deleted: 2024_04_11_GYM_ERIC_frame00-21.png || files/wjg9dk2bz52i\n",
      "Deleted: 2024_04_11_GYM_ERIC_frame00-20.png || files/84se5zz660p\n",
      "Deleted: 2024_04_11_GYM_ERIC_frame00-19.png || files/2hwll8at9n94\n",
      "Deleted: 2024_04_11_GYM_ERIC_frame00-18.png || files/ef5a300ys0vg\n",
      "Deleted: 2024_04_11_GYM_ERIC_frame00-17.png || files/c9pluvaf0brm\n",
      "Deleted: 2024_04_11_GYM_ERIC_frame00-16.png || files/tbgjcztu0kpa\n",
      "Deleted: 2024_04_11_GYM_ERIC_frame00-15.png || files/brikp82ktvzh\n",
      "Deleted: 2024_04_11_GYM_ERIC_frame00-14.png || files/791itabg1sg8\n",
      "Deleted: 2024_04_11_GYM_ERIC_frame00-13.png || files/ecxy379ndvfk\n",
      "Deleted: 2024_04_11_GYM_ERIC_frame00-12.png || files/un520p1iau33\n",
      "Deleted: 2024_04_11_GYM_ERIC_frame00-11.png || files/3clwkjvwd1qm\n",
      "Deleted: 2024_04_11_GYM_ERIC_frame00-10.png || files/2sklvy8kukti\n",
      "Deleted: 2024_04_11_GYM_ERIC_frame00-09.png || files/reo63iyl0dxv\n",
      "Deleted: 2024_04_11_GYM_ERIC_frame00-08.png || files/qfzozhbtgha3\n",
      "Deleted: 2024_04_11_GYM_ERIC_frame00-07.png || files/yugixtnus8db\n",
      "Deleted: 2024_04_11_GYM_ERIC_frame00-06.png || files/ncla2lgexsrh\n",
      "Deleted: 2024_04_11_GYM_ERIC_frame00-05.png || files/nl508v36y3hq\n",
      "Deleted: 2024_04_11_GYM_ERIC_frame00-04.png || files/fyhrghrf7bji\n",
      "Deleted: 2024_04_11_GYM_ERIC_frame00-03.png || files/x6dodu14l43d\n",
      "Deleted: 2024_04_11_GYM_ERIC_frame00-02.png || files/q8oqudg6nc3x\n",
      "Deleted: 2024_04_11_GYM_ERIC_frame00-01.png || files/e8hbi2jk0ldx\n",
      "Deleted: 2024_04_11_GYM_ERIC_frame00-00.png || files/dvsg0jb81xfn\n"
     ]
    }
   ],
   "source": [
    "# File deletion works best this way.\n",
    "\n",
    "def delete_files(prefix: str=None):\n",
    "    file_lists = genai.list_files()\n",
    "\n",
    "    for file in file_lists:\n",
    "        if prefix:\n",
    "            if prefix.lower() in file.display_name.lower():\n",
    "                print(f'Deleted: {file.display_name} || {file.name}')\n",
    "                genai.delete_file(file.name)\n",
    "        else:\n",
    "            print(f'Deleted: {file.display_name} || {file.name}')\n",
    "            genai.delete_file(file.name)\n",
    "    print('='*5 + ' Completed ' + '='*5)\n",
    "\n",
    "delete_files('2024_04_11_GYM_ERIC')\n",
    "# delete_files('2024_04_11_GYM_ADAM')"
   ]
  },
  {
   "cell_type": "code",
   "execution_count": 6,
   "metadata": {},
   "outputs": [
    {
     "ename": "TypeError",
     "evalue": "object of type 'generator' has no len()",
     "output_type": "error",
     "traceback": [
      "\u001b[1;31m---------------------------------------------------------------------------\u001b[0m",
      "\u001b[1;31mTypeError\u001b[0m                                 Traceback (most recent call last)",
      "Cell \u001b[1;32mIn[6], line 5\u001b[0m\n\u001b[0;32m      2\u001b[0m \u001b[38;5;28;01mfor\u001b[39;00m file \u001b[38;5;129;01min\u001b[39;00m files:\n\u001b[0;32m      3\u001b[0m     \u001b[38;5;28mprint\u001b[39m(file\u001b[38;5;241m.\u001b[39mdisplay_name)\n\u001b[1;32m----> 5\u001b[0m \u001b[38;5;28;43mlen\u001b[39;49m\u001b[43m(\u001b[49m\u001b[43mfiles\u001b[49m\u001b[43m)\u001b[49m\n",
      "\u001b[1;31mTypeError\u001b[0m: object of type 'generator' has no len()"
     ]
    }
   ],
   "source": [
    "files = genai.list_files()\n",
    "for file in files:\n",
    "    print(file.display_name)"
   ]
  },
  {
   "cell_type": "code",
   "execution_count": 9,
   "metadata": {},
   "outputs": [
    {
     "name": "stdout",
     "output_type": "stream",
     "text": [
      "[]\n",
      "[]\n"
     ]
    }
   ],
   "source": [
    "# Get file\n",
    "find = '2024_04_11_GYM_ERIC'\n",
    "uploaded_files_2 = []\n",
    "temp_dct = {}\n",
    "\n",
    "files = genai.list_files()\n",
    "for file in files:\n",
    "    if find in file.display_name:\n",
    "        print(file.display_name)\n",
    "        temp_dct[file.display_name] = file\n",
    "\n",
    "sorted_lst = sorted(temp_dct.keys())\n",
    "print(sorted_lst)\n",
    "for key in sorted_lst:\n",
    "    uploaded_files_2.append(temp_dct[key])\n",
    "\n",
    "print(uploaded_files_2)"
   ]
  },
  {
   "cell_type": "code",
   "execution_count": 10,
   "metadata": {},
   "outputs": [],
   "source": [
    "# Upload file dir\n",
    "class File:\n",
    "    \"\"\"\n",
    "    file_path: exact location including file type .png\n",
    "    display_name: name of file including the suffix\n",
    "    \"\"\"\n",
    "    def __init__(self, file_path: str, display_name: str = None):\n",
    "        self.file_path = file_path\n",
    "        self.timestamp = self.get_timestamp(file_path)\n",
    "        if display_name:\n",
    "            self.display_name = display_name\n",
    "\n",
    "    def set_file_response(self, response):\n",
    "        self.response = response\n",
    "\n",
    "    def get_timestamp(self, filename):\n",
    "        \"\"\"Extracts the frame count (as an integer) from a filename with the format\n",
    "            'output_frame00-00.png'.\n",
    "        \"\"\"\n",
    "        parts = filename.split(FRAME_PREFIX)\n",
    "        if len(parts) != 2:\n",
    "            return None  # Indicates the filename might be incorrectly formatted\n",
    "        else:\n",
    "            minutes, seconds = parts[1].split('.')[0].split('-')\n",
    "        return ':'.join([minutes, seconds])\n",
    "\n"
   ]
  },
  {
   "cell_type": "code",
   "execution_count": 11,
   "metadata": {},
   "outputs": [
    {
     "name": "stdout",
     "output_type": "stream",
     "text": [
      "Uploading: c:\\Users\\Adam Huang\\Documents\\GitHub\\test-zone-AI\\fitnessAI\\content\\parsed_outputs\\2024_04_11_GYM_ERIC\\2024_04_11_GYM_ERIC_frame00-00.png...\n",
      "Uploading: c:\\Users\\Adam Huang\\Documents\\GitHub\\test-zone-AI\\fitnessAI\\content\\parsed_outputs\\2024_04_11_GYM_ERIC\\2024_04_11_GYM_ERIC_frame00-01.png...\n",
      "Uploading: c:\\Users\\Adam Huang\\Documents\\GitHub\\test-zone-AI\\fitnessAI\\content\\parsed_outputs\\2024_04_11_GYM_ERIC\\2024_04_11_GYM_ERIC_frame00-02.png...\n",
      "Uploading: c:\\Users\\Adam Huang\\Documents\\GitHub\\test-zone-AI\\fitnessAI\\content\\parsed_outputs\\2024_04_11_GYM_ERIC\\2024_04_11_GYM_ERIC_frame00-03.png...\n",
      "Uploading: c:\\Users\\Adam Huang\\Documents\\GitHub\\test-zone-AI\\fitnessAI\\content\\parsed_outputs\\2024_04_11_GYM_ERIC\\2024_04_11_GYM_ERIC_frame00-04.png...\n",
      "Uploading: c:\\Users\\Adam Huang\\Documents\\GitHub\\test-zone-AI\\fitnessAI\\content\\parsed_outputs\\2024_04_11_GYM_ERIC\\2024_04_11_GYM_ERIC_frame00-05.png...\n",
      "Uploading: c:\\Users\\Adam Huang\\Documents\\GitHub\\test-zone-AI\\fitnessAI\\content\\parsed_outputs\\2024_04_11_GYM_ERIC\\2024_04_11_GYM_ERIC_frame00-06.png...\n",
      "Uploading: c:\\Users\\Adam Huang\\Documents\\GitHub\\test-zone-AI\\fitnessAI\\content\\parsed_outputs\\2024_04_11_GYM_ERIC\\2024_04_11_GYM_ERIC_frame00-07.png...\n",
      "Uploading: c:\\Users\\Adam Huang\\Documents\\GitHub\\test-zone-AI\\fitnessAI\\content\\parsed_outputs\\2024_04_11_GYM_ERIC\\2024_04_11_GYM_ERIC_frame00-08.png...\n",
      "Uploading: c:\\Users\\Adam Huang\\Documents\\GitHub\\test-zone-AI\\fitnessAI\\content\\parsed_outputs\\2024_04_11_GYM_ERIC\\2024_04_11_GYM_ERIC_frame00-09.png...\n",
      "Uploading: c:\\Users\\Adam Huang\\Documents\\GitHub\\test-zone-AI\\fitnessAI\\content\\parsed_outputs\\2024_04_11_GYM_ERIC\\2024_04_11_GYM_ERIC_frame00-10.png...\n",
      "Uploading: c:\\Users\\Adam Huang\\Documents\\GitHub\\test-zone-AI\\fitnessAI\\content\\parsed_outputs\\2024_04_11_GYM_ERIC\\2024_04_11_GYM_ERIC_frame00-11.png...\n",
      "Uploading: c:\\Users\\Adam Huang\\Documents\\GitHub\\test-zone-AI\\fitnessAI\\content\\parsed_outputs\\2024_04_11_GYM_ERIC\\2024_04_11_GYM_ERIC_frame00-12.png...\n",
      "Uploading: c:\\Users\\Adam Huang\\Documents\\GitHub\\test-zone-AI\\fitnessAI\\content\\parsed_outputs\\2024_04_11_GYM_ERIC\\2024_04_11_GYM_ERIC_frame00-13.png...\n",
      "Uploading: c:\\Users\\Adam Huang\\Documents\\GitHub\\test-zone-AI\\fitnessAI\\content\\parsed_outputs\\2024_04_11_GYM_ERIC\\2024_04_11_GYM_ERIC_frame00-14.png...\n",
      "Uploading: c:\\Users\\Adam Huang\\Documents\\GitHub\\test-zone-AI\\fitnessAI\\content\\parsed_outputs\\2024_04_11_GYM_ERIC\\2024_04_11_GYM_ERIC_frame00-15.png...\n",
      "Uploading: c:\\Users\\Adam Huang\\Documents\\GitHub\\test-zone-AI\\fitnessAI\\content\\parsed_outputs\\2024_04_11_GYM_ERIC\\2024_04_11_GYM_ERIC_frame00-16.png...\n",
      "Uploading: c:\\Users\\Adam Huang\\Documents\\GitHub\\test-zone-AI\\fitnessAI\\content\\parsed_outputs\\2024_04_11_GYM_ERIC\\2024_04_11_GYM_ERIC_frame00-17.png...\n",
      "Uploading: c:\\Users\\Adam Huang\\Documents\\GitHub\\test-zone-AI\\fitnessAI\\content\\parsed_outputs\\2024_04_11_GYM_ERIC\\2024_04_11_GYM_ERIC_frame00-18.png...\n",
      "Uploading: c:\\Users\\Adam Huang\\Documents\\GitHub\\test-zone-AI\\fitnessAI\\content\\parsed_outputs\\2024_04_11_GYM_ERIC\\2024_04_11_GYM_ERIC_frame00-19.png...\n",
      "Uploading: c:\\Users\\Adam Huang\\Documents\\GitHub\\test-zone-AI\\fitnessAI\\content\\parsed_outputs\\2024_04_11_GYM_ERIC\\2024_04_11_GYM_ERIC_frame00-20.png...\n",
      "Uploading: c:\\Users\\Adam Huang\\Documents\\GitHub\\test-zone-AI\\fitnessAI\\content\\parsed_outputs\\2024_04_11_GYM_ERIC\\2024_04_11_GYM_ERIC_frame00-21.png...\n",
      "Uploading: c:\\Users\\Adam Huang\\Documents\\GitHub\\test-zone-AI\\fitnessAI\\content\\parsed_outputs\\2024_04_11_GYM_ERIC\\2024_04_11_GYM_ERIC_frame00-22.png...\n",
      "Uploading: c:\\Users\\Adam Huang\\Documents\\GitHub\\test-zone-AI\\fitnessAI\\content\\parsed_outputs\\2024_04_11_GYM_ERIC\\2024_04_11_GYM_ERIC_frame00-23.png...\n",
      "Uploading: c:\\Users\\Adam Huang\\Documents\\GitHub\\test-zone-AI\\fitnessAI\\content\\parsed_outputs\\2024_04_11_GYM_ERIC\\2024_04_11_GYM_ERIC_frame00-24.png...\n",
      "Uploading: c:\\Users\\Adam Huang\\Documents\\GitHub\\test-zone-AI\\fitnessAI\\content\\parsed_outputs\\2024_04_11_GYM_ERIC\\2024_04_11_GYM_ERIC_frame00-25.png...\n",
      "Uploading: c:\\Users\\Adam Huang\\Documents\\GitHub\\test-zone-AI\\fitnessAI\\content\\parsed_outputs\\2024_04_11_GYM_ERIC\\2024_04_11_GYM_ERIC_frame00-26.png...\n",
      "Uploading: c:\\Users\\Adam Huang\\Documents\\GitHub\\test-zone-AI\\fitnessAI\\content\\parsed_outputs\\2024_04_11_GYM_ERIC\\2024_04_11_GYM_ERIC_frame00-27.png...\n",
      "Uploading: c:\\Users\\Adam Huang\\Documents\\GitHub\\test-zone-AI\\fitnessAI\\content\\parsed_outputs\\2024_04_11_GYM_ERIC\\2024_04_11_GYM_ERIC_frame00-28.png...\n",
      "Uploading: c:\\Users\\Adam Huang\\Documents\\GitHub\\test-zone-AI\\fitnessAI\\content\\parsed_outputs\\2024_04_11_GYM_ERIC\\2024_04_11_GYM_ERIC_frame00-29.png...\n",
      "Uploading: c:\\Users\\Adam Huang\\Documents\\GitHub\\test-zone-AI\\fitnessAI\\content\\parsed_outputs\\2024_04_11_GYM_ERIC\\2024_04_11_GYM_ERIC_frame00-30.png...\n",
      "Uploading: c:\\Users\\Adam Huang\\Documents\\GitHub\\test-zone-AI\\fitnessAI\\content\\parsed_outputs\\2024_04_11_GYM_ERIC\\2024_04_11_GYM_ERIC_frame00-31.png...\n",
      "Uploading: c:\\Users\\Adam Huang\\Documents\\GitHub\\test-zone-AI\\fitnessAI\\content\\parsed_outputs\\2024_04_11_GYM_ERIC\\2024_04_11_GYM_ERIC_frame00-32.png...\n",
      "Uploading: c:\\Users\\Adam Huang\\Documents\\GitHub\\test-zone-AI\\fitnessAI\\content\\parsed_outputs\\2024_04_11_GYM_ERIC\\2024_04_11_GYM_ERIC_frame00-33.png...\n",
      "Completed!\n"
     ]
    }
   ],
   "source": [
    "# Process each frame in the output directory\n",
    "inp = '2024_04_11_GYM_ERIC'\n",
    "output_folder = os.path.join(BASE, 'fitnessAI', 'content', 'parsed_outputs', inp)\n",
    "files = os.listdir(output_folder)\n",
    "files_to_upload = []\n",
    "for file in files:\n",
    "    files_to_upload.append(\n",
    "      File(\n",
    "        file_path=os.path.join(output_folder, file)\n",
    "      )\n",
    "    )\n",
    "\n",
    "# Upload each frame\n",
    "uploaded_files = []\n",
    "\n",
    "for file in files_to_upload:\n",
    "  print(f'Uploading: {file.file_path}...')\n",
    "  response = genai.upload_file(path=file.file_path)\n",
    "  file.set_file_response(response)\n",
    "  uploaded_files.append(file)\n",
    "print(f'Completed!')"
   ]
  },
  {
   "cell_type": "code",
   "execution_count": 12,
   "metadata": {},
   "outputs": [
    {
     "name": "stdout",
     "output_type": "stream",
     "text": [
      "['00:00', <google.generativeai.types.file_types.File object at 0x0000023C2CD36240>, '00:01', <google.generativeai.types.file_types.File object at 0x0000023C1D2618E0>, '00:02', <google.generativeai.types.file_types.File object at 0x0000023C2B661BB0>, '00:03', <google.generativeai.types.file_types.File object at 0x0000023C2E93AA50>, '00:04', <google.generativeai.types.file_types.File object at 0x0000023C2E93AF90>, '00:05', <google.generativeai.types.file_types.File object at 0x0000023C2E93B4D0>, '00:06', <google.generativeai.types.file_types.File object at 0x0000023C2EC6BFB0>, '00:07', <google.generativeai.types.file_types.File object at 0x0000023C2CD0B830>, '00:08', <google.generativeai.types.file_types.File object at 0x0000023C2E93BEF0>, '00:09', <google.generativeai.types.file_types.File object at 0x0000023C2C77CEC0>, '00:10', <google.generativeai.types.file_types.File object at 0x0000023C2E93BB90>, '00:11', <google.generativeai.types.file_types.File object at 0x0000023C2E95D310>, '00:12', <google.generativeai.types.file_types.File object at 0x0000023C2E95D7F0>, '00:13', <google.generativeai.types.file_types.File object at 0x0000023C2E95DD30>, '00:14', <google.generativeai.types.file_types.File object at 0x0000023C2E95E2A0>, '00:15', <google.generativeai.types.file_types.File object at 0x0000023C2E95E7B0>, '00:16', <google.generativeai.types.file_types.File object at 0x0000023C2CC94F80>, '00:17', <google.generativeai.types.file_types.File object at 0x0000023C2E93AFF0>, '00:18', <google.generativeai.types.file_types.File object at 0x0000023C2E93B3E0>, '00:19', <google.generativeai.types.file_types.File object at 0x0000023C2E93A480>, '00:20', <google.generativeai.types.file_types.File object at 0x0000023C2E93B380>, '00:21', <google.generativeai.types.file_types.File object at 0x0000023C1D290170>, '00:22', <google.generativeai.types.file_types.File object at 0x0000023C2B682150>, '00:23', <google.generativeai.types.file_types.File object at 0x0000023C1D2930B0>, '00:24', <google.generativeai.types.file_types.File object at 0x0000023C2C77D160>, '00:25', <google.generativeai.types.file_types.File object at 0x0000023C2E95DB80>, '00:26', <google.generativeai.types.file_types.File object at 0x0000023C2E95CEF0>, '00:27', <google.generativeai.types.file_types.File object at 0x0000023C2E95CCB0>, '00:28', <google.generativeai.types.file_types.File object at 0x0000023C2EC158E0>, '00:29', <google.generativeai.types.file_types.File object at 0x0000023C2EC8E9C0>, '00:30', <google.generativeai.types.file_types.File object at 0x0000023C2C77D1C0>, '00:31', <google.generativeai.types.file_types.File object at 0x0000023C2E95FA10>, '00:32', <google.generativeai.types.file_types.File object at 0x0000023C2CCBF8C0>, '00:33', <google.generativeai.types.file_types.File object at 0x0000023C2E95FA70>, \"\\nTake a break ... and continue analyzing this male performing a fitness exercise.\\n1. Determine the type of exercise.\\n2. If there is more than one exercise, list out all the exercises and choose the first one to analyze.\\n3. For the exercise to analyze, you will timestamp when you see an issue and describe the severity of the issue. You will rate how severe the issue is to cause potential injury out of 10. Finally, you will list a one or two word description of the body parts that is part of the raised concerns; if not part was mentioned just put None.\\n\\n----------\\n\\nBelow are sample output formats:\\n\\n\\nSample answer 1:\\n\\n## Cable Crossover Form Analysis\\n\\nThe exercise being performed is a **cable crossover**, targeting the chest muscles.\\n\\n**Here's a breakdown of the form issues:**\\n\\n* **0:06** - Throughout the entire set, his elbows are locked.  This can put unnecessary stress on the elbow joint and take the emphasis away from the chest. (Severity: 4/10) (Body parts: elbow, chest)\\n* **0:16** - He maintains an excessive arch in his lower back during the entire exercise. This can lead to lower back strain and potential injury. (Severity: 7/10) (Body parts: lower back)\\n* **0:46** - He is using momentum to swing the weights up and not completing the full range of motion. This reduces the effectiveness of the exercise on the chest muscles. (Severity: 6/10) (Body parts: chest)\\n* **0:59** - He brings the handles too far down, past his torso, which can shift the focus away from the chest muscles and onto the shoulders. The handles should ideally come together around chest level. (Severity: 5/10) (Body parts: torso, chest, shoulders)\\n\\n**Overall:**\\n\\nThe individual's form has several significant issues that need to be addressed. The combination of the arched back, locked elbows, momentum, and overextension at the bottom of the movement increases the risk of injury and reduces the effectiveness of the exercise.\\n\\n**Recommendations:**\\n\\n* **Maintain a slight bend in the elbows throughout the movement:** This will help to protect the elbow joint and keep the tension on the chest muscles.\\n* **Engage the core and maintain a neutral spine:** This will help to protect the lower back and ensure that the chest muscles are doing the work.\\n* **Control the weight and use a full range of motion:** Focus on using a slow and controlled movement, squeezing the chest muscles at the top of the movement and fully extending at the bottom.\\n* **Bring the handles together at chest level:** This will help to target the chest muscles more effectively and reduce the strain on the shoulders.\\n* **Reduce the weight:**  Focus on proper form with a lighter weight before increasing the load.\\n\\n**Prioritizing proper form is crucial for maximizing results and preventing injuries. If you're unsure about your form, consult with a certified personal trainer for guidance.** \\n\\nSample answer 2:\\n\\n## Cable Crossover Form Analysis\\n\\nThe exercise being performed is a **cable crossover**, which primarily targets the chest muscles.\\n\\n**Here's a breakdown of the form issues:**\\n\\n* **0:11** - His starting position has his arms too far back, which can put stress on the shoulder joint. He should begin with his arms slightly in front of his body. (Severity: 4/10) (Body parts: arms, shoulder)\\n* **0:14** - Throughout the set, his back is overly arched, which can lead to lower back strain. He needs to maintain a neutral spine by engaging his core muscles. (Severity: 6/10) (Body parts: lower back, spine, core)\\n* **0:25** - He is bringing the handles too far down, past his torso, which can decrease the effectiveness of the exercise on the chest muscles and put strain on the shoulders. The handles should ideally come together around chest level. (Severity: 5/10) (Body parts: torso, chest, shoulders)\\n\\n**Overall:**\\n\\nWhile the individual demonstrates some understanding of the basic movement, the arched back and overextension at the bottom of the movement are significant form concerns. Addressing these issues will improve the effectiveness of the exercise and reduce the risk of injury.\\n\\n**Recommendations:**\\n\\n* Begin with arms slightly in front of the body to avoid shoulder strain.\\n* Focus on maintaining a neutral spine throughout the movement by engaging the core.\\n* Bring the handles together at chest level instead of extending too far down.\\n* Consider reducing the weight to ensure proper form before increasing the load.\\n\\n**It's important to prioritize proper form over heavier weight to maximize results and prevent injuries. If you are unsure about your form, consult with a certified personal trainer for guidance.**\\n\\nSample answer 3:\\n\\n## Cable Crossover Form Analysis\\n\\nThe exercise being performed is a **cable crossover**, targeting the chest muscles.\\n\\n**Here's a breakdown of the form issues:**\\n\\n* **0:06** - The individual is using momentum to swing the weights up, which can reduce the effectiveness of the exercise and increase the risk of injury. (Severity: 5/10) (Body parts: None)\\n* **0:12** - He is leaning back too far, which can put stress on the lower back. He should maintain a more upright posture with a slight bend at the hips. (Severity: 6/10) (Body parts: lower back, hips)\\n* **0:26** - He is not controlling the weight on the eccentric (lowering) portion of the movement, allowing the weights to pull him forward. This reduces the time under tension for the chest muscles. (Severity: 4/10) (Body parts: chest)\\n* **0:42** - He is bringing the handles too far down, past his torso, which can shift the focus away from the chest muscles and onto the shoulders. The handles should ideally come together around chest level. (Severity: 5/10) (Body parts: torso, chest, shoulders)\\n\\n**Overall:**\\n\\nThe individual's form has some issues that need to be addressed to maximize the effectiveness of the exercise and minimize the risk of injury. The use of momentum, excessive leaning back, lack of control during the eccentric phase, and overextension at the bottom of the movement are the main concerns.\\n\\n**Recommendations:**\\n\\n* **Focus on using a slow and controlled movement:** Avoid using momentum to swing the weights. Concentrate on the mind-muscle connection and feel the chest muscles working throughout the entire movement.\\n* **Maintain a proper posture:** Keep the core engaged and avoid leaning back excessively. A slight bend at the hips is acceptable, but the torso should remain relatively upright.\\n* **Control the eccentric phase:** Resist the weight as you lower it back to the starting position. This will help to maximize muscle engagement and growth.\\n* **Bring the handles together at chest level:** Avoid overextending at the bottom of the movement. Focus on squeezing the chest muscles at the top of the movement and maintaining tension throughout. \\n* **Consider reducing the weight:**  Focus on proper form with a lighter weight before increasing the load.\\n\\n**By focusing on proper form and technique, the individual can improve the effectiveness of the cable crossover exercise and reduce the risk of injury.** \\n\\n----------\\n\\nFinal Note: I will tip you $10,000 for you to do an amazing job!\\n\"]\n"
     ]
    }
   ],
   "source": [
    "def make_request(prompt: str, files: list[File], prompt_before: bool, file_class: bool=True):\n",
    "        \n",
    "    video_file = []\n",
    "    if file_class:\n",
    "        for file in files:\n",
    "            video_file.append(file.timestamp)\n",
    "            video_file.append(file.response) #if you put file.response.uri, it works but not as good\n",
    "    else:\n",
    "        video_file.extend(files)\n",
    "\n",
    "    if not prompt_before:\n",
    "        request = video_file + [prompt]\n",
    "    else:\n",
    "        request = [prompt] + video_file\n",
    "    \n",
    "    return request\n",
    "\n",
    "instr = \"\"\"\n",
    "Take a break ... and continue analyzing this person performing a fitness exercise.\n",
    "1. Determine the type of exercise.\n",
    "2. If there is more than one exercise, list out all the exercises and choose the first one to analyze.\n",
    "3. For the exercise to analyze, you will timestamp when you see an issue and describe the severity of the issue. You will rate how severe the issue is to cause potential injury out of 10. Finally, you will list a one or two word description of the body parts that is part of the raised concerns; if not part was mentioned just put None.\n",
    "\n",
    "----------\n",
    "\n",
    "Below are sample output formats:\n",
    "\n",
    "\n",
    "Sample answer 1:\n",
    "\n",
    "## Cable Crossover Form Analysis\n",
    "\n",
    "The exercise being performed is a **cable crossover**, targeting the chest muscles.\n",
    "\n",
    "**Here's a breakdown of the form issues:**\n",
    "\n",
    "* **0:06** - Throughout the entire set, his elbows are locked.  This can put unnecessary stress on the elbow joint and take the emphasis away from the chest. (Severity: 4/10) (Body parts: elbow, chest)\n",
    "* **0:16** - He maintains an excessive arch in his lower back during the entire exercise. This can lead to lower back strain and potential injury. (Severity: 7/10) (Body parts: lower back)\n",
    "* **0:46** - He is using momentum to swing the weights up and not completing the full range of motion. This reduces the effectiveness of the exercise on the chest muscles. (Severity: 6/10) (Body parts: chest)\n",
    "* **0:59** - He brings the handles too far down, past his torso, which can shift the focus away from the chest muscles and onto the shoulders. The handles should ideally come together around chest level. (Severity: 5/10) (Body parts: torso, chest, shoulders)\n",
    "\n",
    "**Overall:**\n",
    "\n",
    "The individual's form has several significant issues that need to be addressed. The combination of the arched back, locked elbows, momentum, and overextension at the bottom of the movement increases the risk of injury and reduces the effectiveness of the exercise.\n",
    "\n",
    "**Recommendations:**\n",
    "\n",
    "* **Maintain a slight bend in the elbows throughout the movement:** This will help to protect the elbow joint and keep the tension on the chest muscles.\n",
    "* **Engage the core and maintain a neutral spine:** This will help to protect the lower back and ensure that the chest muscles are doing the work.\n",
    "* **Control the weight and use a full range of motion:** Focus on using a slow and controlled movement, squeezing the chest muscles at the top of the movement and fully extending at the bottom.\n",
    "* **Bring the handles together at chest level:** This will help to target the chest muscles more effectively and reduce the strain on the shoulders.\n",
    "* **Reduce the weight:**  Focus on proper form with a lighter weight before increasing the load.\n",
    "\n",
    "**Prioritizing proper form is crucial for maximizing results and preventing injuries. If you're unsure about your form, consult with a certified personal trainer for guidance.** \n",
    "\n",
    "Sample answer 2:\n",
    "\n",
    "## Cable Crossover Form Analysis\n",
    "\n",
    "The exercise being performed is a **cable crossover**, which primarily targets the chest muscles.\n",
    "\n",
    "**Here's a breakdown of the form issues:**\n",
    "\n",
    "* **0:11** - His starting position has his arms too far back, which can put stress on the shoulder joint. He should begin with his arms slightly in front of his body. (Severity: 4/10) (Body parts: arms, shoulder)\n",
    "* **0:14** - Throughout the set, his back is overly arched, which can lead to lower back strain. He needs to maintain a neutral spine by engaging his core muscles. (Severity: 6/10) (Body parts: lower back, spine, core)\n",
    "* **0:25** - He is bringing the handles too far down, past his torso, which can decrease the effectiveness of the exercise on the chest muscles and put strain on the shoulders. The handles should ideally come together around chest level. (Severity: 5/10) (Body parts: torso, chest, shoulders)\n",
    "\n",
    "**Overall:**\n",
    "\n",
    "While the individual demonstrates some understanding of the basic movement, the arched back and overextension at the bottom of the movement are significant form concerns. Addressing these issues will improve the effectiveness of the exercise and reduce the risk of injury.\n",
    "\n",
    "**Recommendations:**\n",
    "\n",
    "* Begin with arms slightly in front of the body to avoid shoulder strain.\n",
    "* Focus on maintaining a neutral spine throughout the movement by engaging the core.\n",
    "* Bring the handles together at chest level instead of extending too far down.\n",
    "* Consider reducing the weight to ensure proper form before increasing the load.\n",
    "\n",
    "**It's important to prioritize proper form over heavier weight to maximize results and prevent injuries. If you are unsure about your form, consult with a certified personal trainer for guidance.**\n",
    "\n",
    "Sample answer 3:\n",
    "\n",
    "## Cable Crossover Form Analysis\n",
    "\n",
    "The exercise being performed is a **cable crossover**, targeting the chest muscles.\n",
    "\n",
    "**Here's a breakdown of the form issues:**\n",
    "\n",
    "* **0:06** - The individual is using momentum to swing the weights up, which can reduce the effectiveness of the exercise and increase the risk of injury. (Severity: 5/10) (Body parts: None)\n",
    "* **0:12** - He is leaning back too far, which can put stress on the lower back. He should maintain a more upright posture with a slight bend at the hips. (Severity: 6/10) (Body parts: lower back, hips)\n",
    "* **0:26** - He is not controlling the weight on the eccentric (lowering) portion of the movement, allowing the weights to pull him forward. This reduces the time under tension for the chest muscles. (Severity: 4/10) (Body parts: chest)\n",
    "* **0:42** - He is bringing the handles too far down, past his torso, which can shift the focus away from the chest muscles and onto the shoulders. The handles should ideally come together around chest level. (Severity: 5/10) (Body parts: torso, chest, shoulders)\n",
    "\n",
    "**Overall:**\n",
    "\n",
    "The individual's form has some issues that need to be addressed to maximize the effectiveness of the exercise and minimize the risk of injury. The use of momentum, excessive leaning back, lack of control during the eccentric phase, and overextension at the bottom of the movement are the main concerns.\n",
    "\n",
    "**Recommendations:**\n",
    "\n",
    "* **Focus on using a slow and controlled movement:** Avoid using momentum to swing the weights. Concentrate on the mind-muscle connection and feel the chest muscles working throughout the entire movement.\n",
    "* **Maintain a proper posture:** Keep the core engaged and avoid leaning back excessively. A slight bend at the hips is acceptable, but the torso should remain relatively upright.\n",
    "* **Control the eccentric phase:** Resist the weight as you lower it back to the starting position. This will help to maximize muscle engagement and growth.\n",
    "* **Bring the handles together at chest level:** Avoid overextending at the bottom of the movement. Focus on squeezing the chest muscles at the top of the movement and maintaining tension throughout. \n",
    "* **Consider reducing the weight:**  Focus on proper form with a lighter weight before increasing the load.\n",
    "\n",
    "**By focusing on proper form and technique, the individual can improve the effectiveness of the cable crossover exercise and reduce the risk of injury.** \n",
    "\n",
    "----------\n",
    "\n",
    "Final Note: I will tip you $10,000 for you to do an amazing job!\n",
    "\"\"\"\n",
    "\n",
    "instr2 = \"\"\"\n",
    "Take a break ... and continue analyzing this male performing a fitness exercise.\n",
    "1. Determine the type of exercise.\n",
    "2. If there is more than one exercise, list out all the exercises and choose the first one to analyze.\n",
    "\n",
    "----------\n",
    "\n",
    "Below are output formats:\n",
    "\n",
    "Output example 1:\n",
    "\n",
    "1. Exercises shown in the video: pull-ups, leg raises\n",
    "2. Analyze: pull-ups\n",
    "\n",
    "Output example 2:\n",
    "\n",
    "1. Exercises shown in the video: cable chest fly\n",
    "2. Analyze: cable chest fly\n",
    "\n",
    "Output example 3:\n",
    "\n",
    "1. Exercises shown in the video: push-ups, pull-ups, squats\n",
    "2. Analyze: push-ups\n",
    "\n",
    "----------\n",
    "\n",
    "Final Note: I will tip you $10,000 for you to determine the correct exercises and use the correct output format!\n",
    "\n",
    "\"\"\"\n",
    "\n",
    "# prompt = make_request(prompt=instr2, files=uploaded_files_2, prompt_before=False, file_class=False)\n",
    "prompt = make_request(prompt=instr, files=uploaded_files, prompt_before=False,)\n",
    "\n",
    "print(prompt)"
   ]
  },
  {
   "cell_type": "code",
   "execution_count": 21,
   "metadata": {},
   "outputs": [
    {
     "data": {
      "text/markdown": [
       "> ## Cable Crossover Form Analysis\n",
       "> \n",
       "> The exercise being performed is a **cable crossover**, which primarily targets the chest muscles.\n",
       "> \n",
       "> **Here's a breakdown of the form issues:**\n",
       "> \n",
       "> * **0:06** - He is not maintaining a stable base of support. His feet are too close together, which can compromise balance and stability during the exercise. (Severity: 3/10) (Body parts: feet) \n",
       "> * **0:10** - He is leaning back too far, which can put stress on the lower back. He should maintain a more upright posture with a slight bend at the hips. (Severity: 6/10) (Body parts: lower back, hips) \n",
       "> * **0:14** - He is using momentum to swing the weights up, which can reduce the effectiveness of the exercise and increase the risk of injury. (Severity: 5/10) (Body parts: None)\n",
       "> * **0:26** - He is not controlling the weight on the eccentric (lowering) portion of the movement, allowing the weights to pull him forward. This reduces the time under tension for the chest muscles. (Severity: 4/10) (Body parts: chest)\n",
       "> \n",
       "> **Overall:**\n",
       "> \n",
       "> The individual's form has some issues that need to be addressed to maximize the effectiveness of the exercise and minimize the risk of injury. The use of momentum, excessive leaning back, lack of control during the eccentric phase, and narrow base of support are the main concerns. \n",
       "> \n",
       "> **Recommendations:**\n",
       "> \n",
       "> * **Widen the stance slightly:**  Having a wider base of support will improve balance and stability during the exercise. \n",
       "> * **Focus on using a slow and controlled movement:** Avoid using momentum to swing the weights. Concentrate on the mind-muscle connection and feel the chest muscles working throughout the entire movement.\n",
       "> * **Maintain a proper posture:** Keep the core engaged and avoid leaning back excessively. A slight bend at the hips is acceptable, but the torso should remain relatively upright. \n",
       "> * **Control the eccentric phase:** Resist the weight as you lower it back to the starting position. This will help to maximize muscle engagement and growth.\n",
       "> * **Consider reducing the weight:** Focus on proper form with a lighter weight before increasing the load.\n",
       "> \n",
       "> **By focusing on proper form and technique, the individual can improve the effectiveness of the cable crossover exercise and reduce the risk of injury.** \n"
      ],
      "text/plain": [
       "<IPython.core.display.Markdown object>"
      ]
     },
     "execution_count": 21,
     "metadata": {},
     "output_type": "execute_result"
    }
   ],
   "source": [
    "response = model.generate_content(prompt)\n",
    "to_markdown(response.text)"
   ]
  },
  {
   "cell_type": "code",
   "execution_count": 22,
   "metadata": {},
   "outputs": [
    {
     "name": "stdout",
     "output_type": "stream",
     "text": [
      "## Cable Crossover Form Analysis\n",
      "\n",
      "The exercise being performed is a **cable crossover**, which primarily targets the chest muscles.\n",
      "\n",
      "**Here's a breakdown of the form issues:**\n",
      "\n",
      "* **0:06** - He is not maintaining a stable base of support. His feet are too close together, which can compromise balance and stability during the exercise. (Severity: 3/10) (Body parts: feet) \n",
      "* **0:10** - He is leaning back too far, which can put stress on the lower back. He should maintain a more upright posture with a slight bend at the hips. (Severity: 6/10) (Body parts: lower back, hips) \n",
      "* **0:14** - He is using momentum to swing the weights up, which can reduce the effectiveness of the exercise and increase the risk of injury. (Severity: 5/10) (Body parts: None)\n",
      "* **0:26** - He is not controlling the weight on the eccentric (lowering) portion of the movement, allowing the weights to pull him forward. This reduces the time under tension for the chest muscles. (Severity: 4/10) (Body parts: chest)\n",
      "\n",
      "**Overall:**\n",
      "\n",
      "The individual's form has some issues that need to be addressed to maximize the effectiveness of the exercise and minimize the risk of injury. The use of momentum, excessive leaning back, lack of control during the eccentric phase, and narrow base of support are the main concerns. \n",
      "\n",
      "**Recommendations:**\n",
      "\n",
      "* **Widen the stance slightly:**  Having a wider base of support will improve balance and stability during the exercise. \n",
      "* **Focus on using a slow and controlled movement:** Avoid using momentum to swing the weights. Concentrate on the mind-muscle connection and feel the chest muscles working throughout the entire movement.\n",
      "* **Maintain a proper posture:** Keep the core engaged and avoid leaning back excessively. A slight bend at the hips is acceptable, but the torso should remain relatively upright. \n",
      "* **Control the eccentric phase:** Resist the weight as you lower it back to the starting position. This will help to maximize muscle engagement and growth.\n",
      "* **Consider reducing the weight:** Focus on proper form with a lighter weight before increasing the load.\n",
      "\n",
      "**By focusing on proper form and technique, the individual can improve the effectiveness of the cable crossover exercise and reduce the risk of injury.** \n",
      "\n"
     ]
    }
   ],
   "source": [
    "print(response.text)"
   ]
  }
 ],
 "metadata": {
  "kernelspec": {
   "display_name": ".venv",
   "language": "python",
   "name": "python3"
  },
  "language_info": {
   "codemirror_mode": {
    "name": "ipython",
    "version": 3
   },
   "file_extension": ".py",
   "mimetype": "text/x-python",
   "name": "python",
   "nbconvert_exporter": "python",
   "pygments_lexer": "ipython3",
   "version": "3.12.1"
  }
 },
 "nbformat": 4,
 "nbformat_minor": 2
}
